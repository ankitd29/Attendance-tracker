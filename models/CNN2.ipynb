{
 "cells": [
  {
   "cell_type": "code",
   "execution_count": 1,
   "id": "3185feb1",
   "metadata": {},
   "outputs": [],
   "source": [
    "#Importing libraries\n",
    "import numpy as np\n",
    "import pandas as pd\n",
    "import matplotlib.pyplot as plt\n",
    "import cv2\n",
    "import os\n",
    "import tensorflow as tf\n",
    "from keras.preprocessing.image import ImageDataGenerator\n",
    "from keras import regularizers"
   ]
  },
  {
   "cell_type": "code",
   "execution_count": 2,
   "id": "c099f142",
   "metadata": {},
   "outputs": [
    {
     "name": "stdout",
     "output_type": "stream",
     "text": [
      "Found 601 images belonging to 3 classes.\n"
     ]
    }
   ],
   "source": [
    "#Image Augmentation for training set\n",
    "train_datagen = ImageDataGenerator(\n",
    "    rescale = 1./255,\n",
    "    #featurewise_center=True,\n",
    "    rotation_range = 30,\n",
    "    vertical_flip = True, \n",
    "    zoom_range = 0.2,\n",
    "#     zca_whitening = True, \n",
    "#     zca_epsilon = 1e-6,\n",
    "    width_shift_range = 0.2,\n",
    "    fill_mode = 'wrap',\n",
    ")\n",
    "training_set = train_datagen.flow_from_directory(\n",
    "    'Dataset/Train',\n",
    "    target_size = (100, 100),\n",
    "    color_mode = 'grayscale',\n",
    "    batch_size = 32,\n",
    "    class_mode = 'categorical',\n",
    "    shuffle = True\n",
    ")"
   ]
  },
  {
   "cell_type": "code",
   "execution_count": 3,
   "id": "c3e9e6b2",
   "metadata": {},
   "outputs": [
    {
     "name": "stdout",
     "output_type": "stream",
     "text": [
      "Found 133 images belonging to 3 classes.\n"
     ]
    }
   ],
   "source": [
    "#No Image Augmentation for Validation set\n",
    "validation_datagen = ImageDataGenerator(\n",
    "    rescale = 1./255\n",
    ")\n",
    "validation_set = validation_datagen.flow_from_directory(\n",
    "    'Dataset/Validation',\n",
    "    target_size = (100, 100),\n",
    "    color_mode = 'grayscale',\n",
    "    batch_size = 16,\n",
    "    class_mode = 'categorical'\n",
    ")"
   ]
  },
  {
   "cell_type": "code",
   "execution_count": 4,
   "id": "e5829d7d",
   "metadata": {},
   "outputs": [],
   "source": [
    "#Initializing the neural network\n",
    "cnn = tf.keras.models.Sequential()"
   ]
  },
  {
   "cell_type": "code",
   "execution_count": 5,
   "id": "adbe2137",
   "metadata": {},
   "outputs": [],
   "source": [
    "#Convolutional layer 1\n",
    "cnn.add(tf.keras.layers.Conv2D(filters = 32, kernel_size = 3, activation = tf.keras.layers.LeakyReLU(alpha = 0.2), input_shape = [100, 100, 1]))\n",
    "cnn.add(tf.keras.layers.MaxPool2D(pool_size = (3, 3), strides = 2))\n",
    "cnn.add(tf.keras.layers.Dropout(0.5))\n",
    "cnn.add(tf.keras.layers.BatchNormalization())"
   ]
  },
  {
   "cell_type": "code",
   "execution_count": 6,
   "id": "6afbc80e",
   "metadata": {},
   "outputs": [],
   "source": [
    "#Convolutional layer 2\n",
    "cnn.add(tf.keras.layers.Conv2D(filters = 32, kernel_size = 3, activation = tf.keras.layers.LeakyReLU(alpha = 0.1)))\n",
    "cnn.add(tf.keras.layers.MaxPool2D(pool_size = (2, 2), strides = 2))\n",
    "cnn.add(tf.keras.layers.Dropout(0.5))\n",
    "#0.5\n",
    "cnn.add(tf.keras.layers.BatchNormalization())"
   ]
  },
  {
   "cell_type": "code",
   "execution_count": 7,
   "id": "09ab3eb1",
   "metadata": {},
   "outputs": [],
   "source": [
    "#Convolutional layer 3\n",
    "cnn.add(tf.keras.layers.Conv2D(filters = 64, kernel_size = 3, activation = tf.keras.layers.LeakyReLU(alpha = 0.2)))\n",
    "cnn.add(tf.keras.layers.MaxPool2D(pool_size = (2, 2), strides = 2))\n",
    "cnn.add(tf.keras.layers.Dropout(0.4))\n",
    "#0.4\n",
    "cnn.add(tf.keras.layers.BatchNormalization())"
   ]
  },
  {
   "cell_type": "code",
   "execution_count": 8,
   "id": "fe757d5b",
   "metadata": {},
   "outputs": [],
   "source": [
    "#Flattening the inputs before feeding it into the fully connected layer\n",
    "cnn.add(tf.keras.layers.Flatten())\n",
    "cnn.add(tf.keras.layers.Dropout(0.5))\n",
    "#0.5\n",
    "cnn.add(tf.keras.layers.BatchNormalization())"
   ]
  },
  {
   "cell_type": "code",
   "execution_count": 9,
   "id": "5550ebc1",
   "metadata": {},
   "outputs": [],
   "source": [
    "#Fully connected layers\n",
    "cnn.add(tf.keras.layers.Dense(units = 64, activation = 'relu'))\n",
    "cnn.add(tf.keras.layers.Dropout(0.3))\n",
    "#0.3\n",
    "cnn.add(tf.keras.layers.BatchNormalization())"
   ]
  },
  {
   "cell_type": "code",
   "execution_count": 10,
   "id": "502912be",
   "metadata": {},
   "outputs": [],
   "source": [
    "#Fully connected layers\n",
    "# cnn.add(tf.keras.layers.Dense(units = 128, kernel_regularizer = regularizers.l1(0.1) , activation = 'relu'))\n",
    "# cnn.add(tf.keras.layers.Dropout(0.2))\n",
    "# cnn.add(tf.keras.layers.BatchNormalization())"
   ]
  },
  {
   "cell_type": "code",
   "execution_count": 11,
   "id": "6b9ed675",
   "metadata": {},
   "outputs": [],
   "source": [
    "#Fully connected layers\n",
    "cnn.add(tf.keras.layers.Dense(units = 128, kernel_regularizer = regularizers.l2(0.09), activation = 'relu'))\n",
    "#64\n",
    "#0.07\n",
    "cnn.add(tf.keras.layers.Dropout(0.6))\n",
    "#0.2\n",
    "cnn.add(tf.keras.layers.BatchNormalization())"
   ]
  },
  {
   "cell_type": "code",
   "execution_count": 12,
   "id": "379540e9",
   "metadata": {},
   "outputs": [],
   "source": [
    "#Output layer\n",
    "cnn.add(tf.keras.layers.Dense(units = 3, activation = 'softmax'))"
   ]
  },
  {
   "cell_type": "code",
   "execution_count": 13,
   "id": "396af687",
   "metadata": {},
   "outputs": [
    {
     "name": "stdout",
     "output_type": "stream",
     "text": [
      "Model: \"sequential\"\n",
      "_________________________________________________________________\n",
      " Layer (type)                Output Shape              Param #   \n",
      "=================================================================\n",
      " conv2d (Conv2D)             (None, 98, 98, 32)        320       \n",
      "                                                                 \n",
      " max_pooling2d (MaxPooling2D  (None, 48, 48, 32)       0         \n",
      " )                                                               \n",
      "                                                                 \n",
      " dropout (Dropout)           (None, 48, 48, 32)        0         \n",
      "                                                                 \n",
      " batch_normalization (BatchN  (None, 48, 48, 32)       128       \n",
      " ormalization)                                                   \n",
      "                                                                 \n",
      " conv2d_1 (Conv2D)           (None, 46, 46, 32)        9248      \n",
      "                                                                 \n",
      " max_pooling2d_1 (MaxPooling  (None, 23, 23, 32)       0         \n",
      " 2D)                                                             \n",
      "                                                                 \n",
      " dropout_1 (Dropout)         (None, 23, 23, 32)        0         \n",
      "                                                                 \n",
      " batch_normalization_1 (Batc  (None, 23, 23, 32)       128       \n",
      " hNormalization)                                                 \n",
      "                                                                 \n",
      " conv2d_2 (Conv2D)           (None, 21, 21, 64)        18496     \n",
      "                                                                 \n",
      " max_pooling2d_2 (MaxPooling  (None, 10, 10, 64)       0         \n",
      " 2D)                                                             \n",
      "                                                                 \n",
      " dropout_2 (Dropout)         (None, 10, 10, 64)        0         \n",
      "                                                                 \n",
      " batch_normalization_2 (Batc  (None, 10, 10, 64)       256       \n",
      " hNormalization)                                                 \n",
      "                                                                 \n",
      " flatten (Flatten)           (None, 6400)              0         \n",
      "                                                                 \n",
      " dropout_3 (Dropout)         (None, 6400)              0         \n",
      "                                                                 \n",
      " batch_normalization_3 (Batc  (None, 6400)             25600     \n",
      " hNormalization)                                                 \n",
      "                                                                 \n",
      " dense (Dense)               (None, 64)                409664    \n",
      "                                                                 \n",
      " dropout_4 (Dropout)         (None, 64)                0         \n",
      "                                                                 \n",
      " batch_normalization_4 (Batc  (None, 64)               256       \n",
      " hNormalization)                                                 \n",
      "                                                                 \n",
      " dense_1 (Dense)             (None, 128)               8320      \n",
      "                                                                 \n",
      " dropout_5 (Dropout)         (None, 128)               0         \n",
      "                                                                 \n",
      " batch_normalization_5 (Batc  (None, 128)              512       \n",
      " hNormalization)                                                 \n",
      "                                                                 \n",
      " dense_2 (Dense)             (None, 3)                 387       \n",
      "                                                                 \n",
      "=================================================================\n",
      "Total params: 473,315\n",
      "Trainable params: 459,875\n",
      "Non-trainable params: 13,440\n",
      "_________________________________________________________________\n"
     ]
    }
   ],
   "source": [
    "#Summary of model architecture\n",
    "cnn.summary()"
   ]
  },
  {
   "cell_type": "code",
   "execution_count": 14,
   "id": "4b61a95b",
   "metadata": {},
   "outputs": [],
   "source": [
    "#Compiling the model\n",
    "cnn.compile(optimizer = tf.keras.optimizers.Adam(learning_rate = 0.005), loss = 'categorical_crossentropy', metrics = ['accuracy'])"
   ]
  },
  {
   "cell_type": "code",
   "execution_count": 15,
   "id": "b760f3e2",
   "metadata": {},
   "outputs": [
    {
     "name": "stderr",
     "output_type": "stream",
     "text": [
      "C:\\Users\\dell\\AppData\\Local\\Programs\\Python\\Python310\\lib\\site-packages\\keras\\preprocessing\\image.py:1861: UserWarning: This ImageDataGenerator specifies `featurewise_center`, but it hasn't been fit on any training data. Fit it first by calling `.fit(numpy_data)`.\n",
      "  warnings.warn(\n"
     ]
    },
    {
     "name": "stdout",
     "output_type": "stream",
     "text": [
      "Epoch 1/25\n",
      "19/19 [==============================] - 20s 743ms/step - loss: 5.8035 - accuracy: 0.5607 - val_loss: 3.9476 - val_accuracy: 0.3684\n",
      "Epoch 2/25\n",
      "19/19 [==============================] - 11s 556ms/step - loss: 2.0757 - accuracy: 0.6722 - val_loss: 2.5106 - val_accuracy: 0.3308\n",
      "Epoch 3/25\n",
      "19/19 [==============================] - 11s 558ms/step - loss: 1.0806 - accuracy: 0.7321 - val_loss: 2.0523 - val_accuracy: 0.3308\n",
      "Epoch 4/25\n",
      "19/19 [==============================] - 11s 552ms/step - loss: 0.8354 - accuracy: 0.7970 - val_loss: 1.8500 - val_accuracy: 0.3459\n",
      "Epoch 5/25\n",
      "19/19 [==============================] - 11s 570ms/step - loss: 0.7355 - accuracy: 0.7820 - val_loss: 1.9666 - val_accuracy: 0.3459\n",
      "Epoch 6/25\n",
      "19/19 [==============================] - 12s 642ms/step - loss: 0.5721 - accuracy: 0.8586 - val_loss: 2.3325 - val_accuracy: 0.3459\n",
      "Epoch 7/25\n",
      "19/19 [==============================] - 11s 575ms/step - loss: 0.5090 - accuracy: 0.9168 - val_loss: 2.6337 - val_accuracy: 0.3459\n",
      "Epoch 8/25\n",
      "19/19 [==============================] - 11s 556ms/step - loss: 0.3904 - accuracy: 0.9368 - val_loss: 2.9256 - val_accuracy: 0.3459\n",
      "Epoch 9/25\n",
      "19/19 [==============================] - 11s 559ms/step - loss: 0.4173 - accuracy: 0.9218 - val_loss: 3.4693 - val_accuracy: 0.3459\n",
      "Epoch 10/25\n",
      "19/19 [==============================] - 11s 553ms/step - loss: 0.4465 - accuracy: 0.9052 - val_loss: 3.0684 - val_accuracy: 0.3459\n",
      "Epoch 11/25\n",
      "19/19 [==============================] - 12s 632ms/step - loss: 0.4037 - accuracy: 0.9418 - val_loss: 3.8580 - val_accuracy: 0.3459\n",
      "Epoch 12/25\n",
      "19/19 [==============================] - 13s 642ms/step - loss: 0.3741 - accuracy: 0.9368 - val_loss: 3.0016 - val_accuracy: 0.3459\n",
      "Epoch 13/25\n",
      "19/19 [==============================] - 11s 580ms/step - loss: 0.4112 - accuracy: 0.9334 - val_loss: 4.0238 - val_accuracy: 0.3459\n",
      "Epoch 14/25\n",
      "19/19 [==============================] - 13s 679ms/step - loss: 0.3601 - accuracy: 0.9351 - val_loss: 4.8153 - val_accuracy: 0.3459\n",
      "Epoch 15/25\n",
      "19/19 [==============================] - 13s 707ms/step - loss: 0.3516 - accuracy: 0.9484 - val_loss: 5.8885 - val_accuracy: 0.3459\n",
      "Epoch 16/25\n",
      "19/19 [==============================] - 12s 622ms/step - loss: 0.4262 - accuracy: 0.9251 - val_loss: 4.8129 - val_accuracy: 0.3459\n",
      "Epoch 17/25\n",
      "19/19 [==============================] - 12s 626ms/step - loss: 0.3583 - accuracy: 0.9534 - val_loss: 5.4690 - val_accuracy: 0.3459\n",
      "Epoch 18/25\n",
      "19/19 [==============================] - 12s 630ms/step - loss: 0.3906 - accuracy: 0.9334 - val_loss: 5.5385 - val_accuracy: 0.3459\n",
      "Epoch 19/25\n",
      "19/19 [==============================] - 13s 697ms/step - loss: 0.3597 - accuracy: 0.9468 - val_loss: 5.7547 - val_accuracy: 0.3459\n",
      "Epoch 20/25\n",
      "19/19 [==============================] - 11s 587ms/step - loss: 0.3595 - accuracy: 0.9484 - val_loss: 4.3652 - val_accuracy: 0.3459\n",
      "Epoch 21/25\n",
      "19/19 [==============================] - 11s 568ms/step - loss: 0.3698 - accuracy: 0.9484 - val_loss: 6.3453 - val_accuracy: 0.3459\n",
      "Epoch 22/25\n",
      "19/19 [==============================] - 11s 557ms/step - loss: 0.3527 - accuracy: 0.9451 - val_loss: 6.9295 - val_accuracy: 0.3459\n",
      "Epoch 23/25\n",
      "19/19 [==============================] - 11s 593ms/step - loss: 0.2866 - accuracy: 0.9684 - val_loss: 9.2405 - val_accuracy: 0.3459\n",
      "Epoch 24/25\n",
      "19/19 [==============================] - 11s 566ms/step - loss: 0.4635 - accuracy: 0.9218 - val_loss: 9.1917 - val_accuracy: 0.3459\n",
      "Epoch 25/25\n",
      "19/19 [==============================] - 11s 552ms/step - loss: 0.3996 - accuracy: 0.9351 - val_loss: 7.5490 - val_accuracy: 0.3459\n"
     ]
    }
   ],
   "source": [
    "#Training the model\n",
    "history = cnn.fit(x = training_set, validation_data = validation_set, epochs = 25)"
   ]
  },
  {
   "cell_type": "code",
   "execution_count": 17,
   "id": "d7fca3ca",
   "metadata": {},
   "outputs": [
    {
     "name": "stdout",
     "output_type": "stream",
     "text": [
      "5/5 - 1s - loss: 4.8826 - accuracy: 0.3534 - 1s/epoch - 243ms/step\n"
     ]
    },
    {
     "data": {
      "image/png": "[encoded data removed]",
      "text/plain": [
       "<Figure size 432x288 with 1 Axes>"
      ]
     },
     "metadata": {
      "needs_background": "light"
     },
     "output_type": "display_data"
    }
   ],
   "source": [
    "#Plot for keeping check of accuracy with number of epochs\n",
    "plt.plot(history.history['accuracy'], label='accuracy')\n",
    "plt.plot(history.history['val_accuracy'], label = 'val_accuracy')\n",
    "plt.xlabel('Epoch')\n",
    "plt.ylabel('Accuracy')\n",
    "plt.ylim([0.4, 1])\n",
    "plt.legend(loc='lower right')\n",
    "\n",
    "test_loss, test_acc = cnn.evaluate(validation_set, verbose=2)"
   ]
  },
  {
   "cell_type": "code",
   "execution_count": null,
   "id": "7cd17880",
   "metadata": {},
   "outputs": [],
   "source": [
    "#loss, acc = cnn.evaluate(validation_datagen.flow(X_test, y_test))\n",
    "\n",
    "print(f'Loss: {loss}\\nAccuracy: {acc*100}')"
   ]
  },
  {
   "cell_type": "code",
   "execution_count": 18,
   "id": "d8b637b3",
   "metadata": {},
   "outputs": [],
   "source": [
    "#Saving the model\n",
    "cnn.save('CNN2_Model.h5')"
   ]
  },
  {
   "cell_type": "code",
   "execution_count": 71,
   "id": "dcfc2a2b",
   "metadata": {},
   "outputs": [
    {
     "name": "stdout",
     "output_type": "stream",
     "text": [
      "1/1 [==============================] - 0s 33ms/step\n"
     ]
    },
    {
     "data": {
      "text/plain": [
       "{'Ankit Dighe': 0, 'Neha Adhikari': 1, 'Sanika Gadkari': 2}"
      ]
     },
     "execution_count": 71,
     "metadata": {},
     "output_type": "execute_result"
    }
   ],
   "source": [
    "#from keras.utils import image\n",
    "test_image = tf.keras.utils.load_img('Dataset/Validation/Sanika Gadkari/4_face_1.jpg', target_size = (100, 100))\n",
    "test_image = tf.keras.utils.img_to_array(test_image)\n",
    "test_image = np.expand_dims(test_image, axis = 0)\n",
    "result = cnn.predict(test_image)\n",
    "training_set.class_indices"
   ]
  },
  {
   "cell_type": "code",
   "execution_count": 72,
   "id": "00f00e62",
   "metadata": {},
   "outputs": [],
   "source": [
    "if result[0][0]==0:\n",
    "    prediction = 'Ankit'\n",
    "elif result[0][0]==1:\n",
    "    prediction = 'Neha'\n",
    "else:\n",
    "    prediction = 'Sanika'"
   ]
  },
  {
   "cell_type": "markdown",
   "id": "bc5c9b40",
   "metadata": {},
   "source": [
    "print(prediction)"
   ]
  },
  {
   "cell_type": "markdown",
   "id": "faa52e2a",
   "metadata": {},
   "source": [
    "Code for Grid Search to check good params"
   ]
  },
  {
   "cell_type": "code",
   "execution_count": 57,
   "id": "fdc3b07e",
   "metadata": {},
   "outputs": [],
   "source": [
    "def create_cnn_model(filters, kernel_size, pool_size, dense_units, dropout_rate, regularizer_rate):\n",
    "    cnn = tf.keras.models.Sequential()\n",
    "    cnn.add(tf.keras.layers.Conv2D(filters = 32, kernel_size = 3, activation = tf.keras.layers.LeakyReLU(alpha = 0.2), input_shape = [100, 100, 3]))\n",
    "    cnn.add(tf.keras.layers.MaxPool2D(pool_size = (3, 3), strides = 2))\n",
    "    cnn.add(tf.keras.layers.Dropout(0.5))\n",
    "    cnn.add(tf.keras.layers.BatchNormalization())\n",
    "    #Convolutional layer 2\n",
    "    cnn.add(tf.keras.layers.Conv2D(filters = 32, kernel_size = 3, activation = tf.keras.layers.LeakyReLU(alpha = 0.1)))\n",
    "    cnn.add(tf.keras.layers.MaxPool2D(pool_size = (2, 2), strides = 2))\n",
    "    cnn.add(tf.keras.layers.Dropout(0.5))\n",
    "    #0.5\n",
    "    cnn.add(tf.keras.layers.BatchNormalization())\n",
    "    #Convolutional layer 3\n",
    "    cnn.add(tf.keras.layers.Conv2D(filters = 64, kernel_size = 3, activation = tf.keras.layers.LeakyReLU(alpha = 0.2)))\n",
    "    cnn.add(tf.keras.layers.MaxPool2D(pool_size = (2, 2), strides = 2))\n",
    "    cnn.add(tf.keras.layers.Dropout(0.4))\n",
    "    #0.4\n",
    "    cnn.add(tf.keras.layers.BatchNormalization())\n",
    "    #Flattening the inputs before feeding it into the fully connected layer\n",
    "    cnn.add(tf.keras.layers.Flatten())\n",
    "    cnn.add(tf.keras.layers.Dropout(0.5))\n",
    "    #0.5\n",
    "    cnn.add(tf.keras.layers.BatchNormalization())\n",
    "    #Fully connected layers\n",
    "    cnn.add(tf.keras.layers.Dense(units = 64, activation = 'relu'))\n",
    "    cnn.add(tf.keras.layers.Dropout(0.3))\n",
    "    #0.3\n",
    "    cnn.add(tf.keras.layers.BatchNormalization())\n",
    "    cnn.add(tf.keras.layers.Dense(units = 3, activation = 'softmax'))\n",
    "    \n",
    "    return cnn"
   ]
  },
  {
   "cell_type": "code",
   "execution_count": 58,
   "id": "d15df880",
   "metadata": {},
   "outputs": [],
   "source": [
    "from sklearn.model_selection import GridSearchCV\n",
    "from tensorflow.keras.wrappers.scikit_learn import KerasClassifier\n",
    "\n",
    "param_grid = {\n",
    "    'filters': [32, 64],\n",
    "    'kernel_size': [(3, 3), (5, 5)],\n",
    "    'pool_size': [(2, 2), (3, 3)],\n",
    "    'dense_units': [64, 128, 256],\n",
    "    'dropout_rate': [0.3, 0.3, 0.4, 0.5, 0.7],\n",
    "    'regularizer_rate': [0.03, 0.05, 0.07, 0.09, 1]\n",
    "}"
   ]
  },
  {
   "cell_type": "code",
   "execution_count": null,
   "id": "22cdb426",
   "metadata": {},
   "outputs": [
    {
     "name": "stderr",
     "output_type": "stream",
     "text": [
      "C:\\Users\\dell\\AppData\\Local\\Temp\\ipykernel_15792\\3278056396.py:2: DeprecationWarning: KerasClassifier is deprecated, use Sci-Keras (https://github.com/adriangb/scikeras) instead. See https://www.adriangb.com/scikeras/stable/migration.html for help migrating.\n",
      "  cnn_classifier = KerasClassifier(build_fn=create_cnn_model, epochs=10, batch_size=32, verbose=0)\n",
      "C:\\Users\\dell\\AppData\\Local\\Programs\\Python\\Python310\\lib\\site-packages\\keras\\preprocessing\\image.py:1861: UserWarning: This ImageDataGenerator specifies `featurewise_center`, but it hasn't been fit on any training data. Fit it first by calling `.fit(numpy_data)`.\n",
      "  warnings.warn(\n"
     ]
    }
   ],
   "source": [
    "# Wrap the Keras model as a scikit-learn classifier\n",
    "cnn_classifier = KerasClassifier(build_fn=create_cnn_model, epochs=10, batch_size=32, verbose=0)\n",
    "\n",
    "# Create a GridSearchCV instance\n",
    "grid = GridSearchCV(estimator=cnn_classifier, param_grid=param_grid, cv=3, scoring='accuracy')\n",
    "\n",
    "# Perform the grid search\n",
    "grid_result = grid.fit(training_set, steps_per_epoch = len(training_set))"
   ]
  },
  {
   "cell_type": "code",
   "execution_count": null,
   "id": "6b694579",
   "metadata": {},
   "outputs": [],
   "source": [
    "print(\"Best parameters found: \", grid_result.best_params_)\n",
    "print(\"Best accuracy found: \", grid_result.best_score_)"
   ]
  },
  {
   "cell_type": "code",
   "execution_count": null,
   "id": "728d4de5",
   "metadata": {},
   "outputs": [],
   "source": [
    "best_model = create_cnn_model(**grid_result.best_params_)\n",
    "best_model.fit(X_train, y_train, epochs=10, batch_size=32, validation_data=(X_val, y_val))"
   ]
  }
 ],
 "metadata": {
  "kernelspec": {
   "display_name": "Python 3 (ipykernel)",
   "language": "python",
   "name": "python3"
  },
  "language_info": {
   "codemirror_mode": {
    "name": "ipython",
    "version": 3
   },
   "file_extension": ".py",
   "mimetype": "text/x-python",
   "name": "python",
   "nbconvert_exporter": "python",
   "pygments_lexer": "ipython3",
   "version": "3.10.11"
  }
 },
 "nbformat": 4,
 "nbformat_minor": 5
}
